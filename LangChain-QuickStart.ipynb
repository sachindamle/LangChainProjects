{
 "cells": [
  {
   "cell_type": "code",
   "execution_count": 1,
   "metadata": {},
   "outputs": [
    {
     "data": {
      "text/plain": [
       "AIMessage(content='Langsmith can help with testing in several ways:\\n\\n1. Test automation: Langsmith provides a code generation feature that can automatically generate test cases based on the given specifications. This can significantly reduce the time and effort required for writing test cases manually.\\n\\n2. Test coverage analysis: Langsmith can analyze the codebase and provide insights into the coverage of test cases. It can identify areas of the code that are not adequately covered by tests, helping testers prioritize their efforts and improve test coverage.\\n\\n3. Test case management: Langsmith offers a test case management system that allows testers to create, organize, and track test cases. Testers can easily manage and update test cases, assign them to team members, and track their execution status.\\n\\n4. Test execution and reporting: Langsmith provides a platform for executing test cases and capturing test results. It automatically generates detailed reports, including test execution status, pass/fail rates, and any errors or exceptions encountered during testing.\\n\\n5. Continuous integration: Langsmith integrates with popular continuous integration (CI) systems, allowing testers to seamlessly integrate their test cases into the CI pipeline. This ensures that tests are automatically executed whenever there are code changes, providing quick feedback on the quality of the code.\\n\\nOverall, Langsmith streamlines the testing process, improves test coverage, and enhances collaboration among testers, making it a valuable tool for testing teams.')"
      ]
     },
     "execution_count": 1,
     "metadata": {},
     "output_type": "execute_result"
    }
   ],
   "source": [
    "from langchain_openai import ChatOpenAI\n",
    "\n",
    "llm = ChatOpenAI()\n",
    "llm.invoke(\"how can langsmith help with testing?\")"
   ]
  },
  {
   "cell_type": "code",
   "execution_count": 2,
   "metadata": {},
   "outputs": [],
   "source": [
    "from langchain_core.prompts import ChatPromptTemplate\n",
    "prompt = ChatPromptTemplate.from_messages([\n",
    "    (\"system\", \"You are world class technical documentation writer.\"),\n",
    "    (\"user\", \"{input}\")\n",
    "])"
   ]
  },
  {
   "cell_type": "code",
   "execution_count": 3,
   "metadata": {},
   "outputs": [],
   "source": [
    "chain = prompt | llm "
   ]
  },
  {
   "cell_type": "code",
   "execution_count": 4,
   "metadata": {},
   "outputs": [
    {
     "data": {
      "text/plain": [
       "AIMessage(content=\"Langsmith can be a valuable tool for testing in several ways:\\n\\n1. Automated Testing: Langsmith can generate test cases automatically, which saves time and effort in creating them manually. It can generate a wide range of inputs and outputs to cover various scenarios and edge cases, allowing for more comprehensive testing.\\n\\n2. Test Case Documentation: Langsmith can generate detailed test case documentation, including step-by-step instructions, expected results, and input/output examples. This documentation can serve as a reference for testers, ensuring consistent and accurate execution of test cases.\\n\\n3. Test Data Generation: Langsmith can generate test data that covers a wide range of possible values and combinations. This helps in testing the system's behavior with different types of data and ensures that the system handles various input scenarios correctly.\\n\\n4. Test Coverage Analysis: Langsmith can analyze the coverage of existing test cases and identify any gaps or areas that have not been adequately tested. This helps in identifying areas that require additional testing and ensures that all critical functionalities are tested thoroughly.\\n\\n5. Regression Testing: Langsmith can automate the execution of regression test suites, which helps in quickly detecting any issues or regressions introduced by new changes or updates. This saves time and effort in manually retesting the system after each change.\\n\\n6. Performance Testing: Langsmith can generate a large volume of test data and simulate multiple concurrent users to evaluate the system's performance under load. It can measure response times, throughput, and resource utilization, helping in identifying performance bottlenecks.\\n\\n7. Integration Testing: Langsmith can generate test cases that cover the integration points between different components or systems. This ensures that the integration is working correctly and helps in identifying any issues or inconsistencies in data exchange.\\n\\nOverall, Langsmith's automation capabilities and test case generation help in improving the efficiency, coverage, and accuracy of testing, resulting in higher quality software products.\")"
      ]
     },
     "execution_count": 4,
     "metadata": {},
     "output_type": "execute_result"
    }
   ],
   "source": [
    "chain.invoke({\"input\": \"how can langsmith help with testing?\"})"
   ]
  },
  {
   "cell_type": "code",
   "execution_count": 5,
   "metadata": {},
   "outputs": [],
   "source": [
    "from langchain_core.output_parsers import StrOutputParser\n",
    "\n",
    "output_parser = StrOutputParser()"
   ]
  },
  {
   "cell_type": "code",
   "execution_count": 6,
   "metadata": {},
   "outputs": [],
   "source": [
    "chain = prompt | llm | output_parser"
   ]
  },
  {
   "cell_type": "code",
   "execution_count": 8,
   "metadata": {},
   "outputs": [
    {
     "data": {
      "text/plain": [
       "\"Langsmith is a powerful tool that can greatly assist in the testing process. Here are some ways in which Langsmith can help with testing:\\n\\n1. Test Case Generation: Langsmith can automatically generate test cases based on predefined rules and specifications. It can analyze the input space and generate a comprehensive set of test cases to ensure maximum coverage.\\n\\n2. Test Data Generation: Langsmith can generate realistic and diverse test data, including both valid and invalid inputs, to test the system under various conditions. This helps in uncovering potential issues and edge cases that might not be immediately apparent.\\n\\n3. Test Oracles: Langsmith can automatically generate expected outputs or test oracles for the generated test cases. This allows for automated verification of the system's behavior, reducing the need for manual checks and increasing efficiency.\\n\\n4. Test Execution: Langsmith can execute the generated test cases automatically, saving time and effort. It can also leverage parallel execution capabilities to speed up the testing process.\\n\\n5. Test Coverage Analysis: Langsmith can analyze the coverage achieved by the executed test cases, highlighting areas that have been adequately tested and identifying gaps that need to be addressed. This helps in ensuring thorough testing of the system.\\n\\n6. Test Result Analysis: Langsmith can analyze the test results and provide detailed reports, including information on passed and failed test cases, error logs, and performance metrics. This allows for easy identification of issues and facilitates debugging.\\n\\n7. Test Automation: Langsmith provides a framework for automating the testing process, allowing for the creation of reusable test scripts and test suites. This enables continuous integration and regression testing, ensuring the stability of the system over time.\\n\\nOverall, Langsmith can significantly enhance the testing process by automating various aspects and providing comprehensive test coverage, ultimately leading to improved software quality and reliability.\""
      ]
     },
     "execution_count": 8,
     "metadata": {},
     "output_type": "execute_result"
    }
   ],
   "source": [
    "chain.invoke({\"input\": \"how can langsmith help with testing?\"})"
   ]
  },
  {
   "cell_type": "code",
   "execution_count": 9,
   "metadata": {},
   "outputs": [],
   "source": [
    "from langchain_community.document_loaders import WebBaseLoader\n",
    "loader = WebBaseLoader(\"https://docs.smith.langchain.com/overview\")\n",
    "\n",
    "docs = loader.load()"
   ]
  },
  {
   "cell_type": "code",
   "execution_count": 10,
   "metadata": {},
   "outputs": [],
   "source": [
    "from langchain_openai import OpenAIEmbeddings\n",
    "\n",
    "embeddings = OpenAIEmbeddings()"
   ]
  },
  {
   "cell_type": "code",
   "execution_count": 11,
   "metadata": {},
   "outputs": [],
   "source": [
    "from langchain_community.vectorstores import FAISS\n",
    "from langchain.text_splitter import RecursiveCharacterTextSplitter\n",
    "\n",
    "\n",
    "text_splitter = RecursiveCharacterTextSplitter()\n",
    "documents = text_splitter.split_documents(docs)\n",
    "vector = FAISS.from_documents(documents, embeddings)"
   ]
  },
  {
   "cell_type": "code",
   "execution_count": 13,
   "metadata": {},
   "outputs": [],
   "source": [
    "from langchain.chains.combine_documents import create_stuff_documents_chain\n",
    "\n",
    "prompt = ChatPromptTemplate.from_template(\"\"\"Answer the following question based only on the provided context:\n",
    "\n",
    "<context>\n",
    "{context}\n",
    "</context>\n",
    "\n",
    "Question: {input}\"\"\")\n",
    "\n",
    "document_chain = create_stuff_documents_chain(llm, prompt)"
   ]
  },
  {
   "cell_type": "code",
   "execution_count": 14,
   "metadata": {},
   "outputs": [],
   "source": [
    "from langchain.chains import create_retrieval_chain\n",
    "\n",
    "retriever = vector.as_retriever()\n",
    "retrieval_chain = create_retrieval_chain(retriever, document_chain)"
   ]
  },
  {
   "cell_type": "code",
   "execution_count": 15,
   "metadata": {},
   "outputs": [
    {
     "name": "stdout",
     "output_type": "stream",
     "text": [
      "LangSmith can help with testing by providing the ability to run chains over datasets and visualize the outputs. It simplifies dataset uploading and allows for easy review and evaluation of the results. LangSmith also offers evaluators in the open-source LangChain library to help guide the user's eye to examples that should be looked at. Additionally, LangSmith facilitates human evaluation through annotation queues, allowing reviewers to assess subjective qualities and validate auto-evaluated runs.\n"
     ]
    }
   ],
   "source": [
    "response = retrieval_chain.invoke({\"input\": \"how can langsmith help with testing?\"})\n",
    "print(response[\"answer\"])\n",
    "\n",
    "# LangSmith offers several features that can help with testing:..."
   ]
  },
  {
   "cell_type": "code",
   "execution_count": 20,
   "metadata": {},
   "outputs": [
    {
     "name": "stdout",
     "output_type": "stream",
     "text": [
      "12345\n"
     ]
    }
   ],
   "source": [
    "import getpass\n",
    "import os\n",
    "\n",
    "os.environ[\"TAVILY_API_KEY\"] = getpass.getpass()\n",
    "print(os.environ[\"TAVILY_API_KEY\"])"
   ]
  },
  {
   "cell_type": "code",
   "execution_count": 21,
   "metadata": {},
   "outputs": [],
   "source": [
    "from langchain.tools.retriever import create_retriever_tool\n",
    "\n",
    "retriever_tool = create_retriever_tool(\n",
    "    retriever,\n",
    "    \"langsmith_search\",\n",
    "    \"Search for information about LangSmith. For any questions about LangSmith, you must use this tool!\",\n",
    ")"
   ]
  },
  {
   "cell_type": "code",
   "execution_count": 22,
   "metadata": {},
   "outputs": [],
   "source": [
    "from langchain_community.tools.tavily_search import TavilySearchResults\n",
    "\n",
    "search = TavilySearchResults()"
   ]
  },
  {
   "cell_type": "code",
   "execution_count": 23,
   "metadata": {},
   "outputs": [],
   "source": [
    "tools = [retriever_tool, search]"
   ]
  },
  {
   "cell_type": "code",
   "execution_count": 24,
   "metadata": {},
   "outputs": [],
   "source": [
    "from langchain_openai import ChatOpenAI\n",
    "from langchain import hub\n",
    "from langchain.agents import create_openai_functions_agent\n",
    "from langchain.agents import AgentExecutor\n",
    "\n",
    "# Get the prompt to use - you can modify this!\n",
    "prompt = hub.pull(\"hwchase17/openai-functions-agent\")\n",
    "llm = ChatOpenAI(model=\"gpt-3.5-turbo\", temperature=0)\n",
    "agent = create_openai_functions_agent(llm, tools, prompt)\n",
    "agent_executor = AgentExecutor(agent=agent, tools=tools, verbose=True)"
   ]
  },
  {
   "cell_type": "code",
   "execution_count": 25,
   "metadata": {},
   "outputs": [
    {
     "name": "stdout",
     "output_type": "stream",
     "text": [
      "\n",
      "\n",
      "\u001b[1m> Entering new AgentExecutor chain...\u001b[0m\n",
      "\u001b[32;1m\u001b[1;3mLangSmith can help with testing in several ways:\n",
      "\n",
      "1. Test Case Generation: LangSmith can generate test cases automatically based on the specifications of the software being tested. It uses advanced techniques such as symbolic execution and constraint solving to generate test inputs that cover different execution paths and edge cases.\n",
      "\n",
      "2. Test Oracles: LangSmith can help in defining test oracles, which are the expected outputs or behaviors of the software under test. It can analyze the specifications and requirements of the software to automatically generate assertions or checks that can be used as test oracles.\n",
      "\n",
      "3. Test Coverage Analysis: LangSmith can analyze the coverage of test cases to determine which parts of the software have been exercised during testing. It can provide insights into the effectiveness of the test suite and identify areas that need additional testing.\n",
      "\n",
      "4. Test Prioritization: LangSmith can prioritize test cases based on their likelihood of finding bugs or their impact on the system. It can use techniques such as code coverage analysis, fault localization, and mutation analysis to prioritize the execution of test cases.\n",
      "\n",
      "5. Test Result Analysis: LangSmith can analyze the results of test executions to identify patterns or trends that can help in debugging and fixing issues. It can provide insights into the root causes of failures and suggest possible fixes or workarounds.\n",
      "\n",
      "Overall, LangSmith can assist in automating various aspects of the testing process, making it more efficient and effective.\u001b[0m\n",
      "\n",
      "\u001b[1m> Finished chain.\u001b[0m\n"
     ]
    },
    {
     "data": {
      "text/plain": [
       "{'input': 'how can langsmith help with testing?',\n",
       " 'output': 'LangSmith can help with testing in several ways:\\n\\n1. Test Case Generation: LangSmith can generate test cases automatically based on the specifications of the software being tested. It uses advanced techniques such as symbolic execution and constraint solving to generate test inputs that cover different execution paths and edge cases.\\n\\n2. Test Oracles: LangSmith can help in defining test oracles, which are the expected outputs or behaviors of the software under test. It can analyze the specifications and requirements of the software to automatically generate assertions or checks that can be used as test oracles.\\n\\n3. Test Coverage Analysis: LangSmith can analyze the coverage of test cases to determine which parts of the software have been exercised during testing. It can provide insights into the effectiveness of the test suite and identify areas that need additional testing.\\n\\n4. Test Prioritization: LangSmith can prioritize test cases based on their likelihood of finding bugs or their impact on the system. It can use techniques such as code coverage analysis, fault localization, and mutation analysis to prioritize the execution of test cases.\\n\\n5. Test Result Analysis: LangSmith can analyze the results of test executions to identify patterns or trends that can help in debugging and fixing issues. It can provide insights into the root causes of failures and suggest possible fixes or workarounds.\\n\\nOverall, LangSmith can assist in automating various aspects of the testing process, making it more efficient and effective.'}"
      ]
     },
     "execution_count": 25,
     "metadata": {},
     "output_type": "execute_result"
    }
   ],
   "source": [
    "agent_executor.invoke({\"input\": \"how can langsmith help with testing?\"})"
   ]
  },
  {
   "cell_type": "code",
   "execution_count": 26,
   "metadata": {},
   "outputs": [
    {
     "name": "stdout",
     "output_type": "stream",
     "text": [
      "\n",
      "\n",
      "\u001b[1m> Entering new AgentExecutor chain...\u001b[0m\n",
      "\u001b[32;1m\u001b[1;3m\n",
      "Invoking: `tavily_search_results_json` with `{'query': 'weather in San Francisco'}`\n",
      "\n",
      "\n",
      "\u001b[0m\u001b[33;1m\u001b[1;3mHTTPError('400 Client Error: Bad Request for url: https://api.tavily.com/search')\u001b[0m\u001b[32;1m\u001b[1;3mI apologize, but I am currently unable to retrieve the weather information for San Francisco. Is there anything else I can assist you with?\u001b[0m\n",
      "\n",
      "\u001b[1m> Finished chain.\u001b[0m\n"
     ]
    },
    {
     "data": {
      "text/plain": [
       "{'input': 'what is the weather in SF?',\n",
       " 'output': 'I apologize, but I am currently unable to retrieve the weather information for San Francisco. Is there anything else I can assist you with?'}"
      ]
     },
     "execution_count": 26,
     "metadata": {},
     "output_type": "execute_result"
    }
   ],
   "source": [
    "agent_executor.invoke({\"input\": \"what is the weather in SF?\"})"
   ]
  }
 ],
 "metadata": {
  "kernelspec": {
   "display_name": "Python 3 (ipykernel)",
   "language": "python",
   "name": "python3"
  },
  "language_info": {
   "codemirror_mode": {
    "name": "ipython",
    "version": 3
   },
   "file_extension": ".py",
   "mimetype": "text/x-python",
   "name": "python",
   "nbconvert_exporter": "python",
   "pygments_lexer": "ipython3",
   "version": "3.11.6"
  }
 },
 "nbformat": 4,
 "nbformat_minor": 2
}
